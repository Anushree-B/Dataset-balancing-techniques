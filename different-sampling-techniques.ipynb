{
 "cells": [
  {
   "cell_type": "code",
   "execution_count": 1,
   "id": "d2806fb8",
   "metadata": {
    "execution": {
     "iopub.execute_input": "2024-03-05T15:32:52.723601Z",
     "iopub.status.busy": "2024-03-05T15:32:52.722802Z",
     "iopub.status.idle": "2024-03-05T15:32:54.013914Z",
     "shell.execute_reply": "2024-03-05T15:32:54.012618Z"
    },
    "papermill": {
     "duration": 1.305539,
     "end_time": "2024-03-05T15:32:54.017117",
     "exception": false,
     "start_time": "2024-03-05T15:32:52.711578",
     "status": "completed"
    },
    "tags": []
   },
   "outputs": [],
   "source": [
    "import pandas as pd\n",
    "import numpy as np"
   ]
  },
  {
   "cell_type": "code",
   "execution_count": 2,
   "id": "1419d551",
   "metadata": {
    "execution": {
     "iopub.execute_input": "2024-03-05T15:32:54.036848Z",
     "iopub.status.busy": "2024-03-05T15:32:54.036282Z",
     "iopub.status.idle": "2024-03-05T15:32:58.520179Z",
     "shell.execute_reply": "2024-03-05T15:32:58.518782Z"
    },
    "papermill": {
     "duration": 4.49825,
     "end_time": "2024-03-05T15:32:58.523586",
     "exception": false,
     "start_time": "2024-03-05T15:32:54.025336",
     "status": "completed"
    },
    "tags": []
   },
   "outputs": [],
   "source": [
    "#reading the dataset\n",
    "\n",
    "df = pd.read_csv(\"/kaggle/input/creditcardfraud/creditcard.csv\")"
   ]
  },
  {
   "cell_type": "code",
   "execution_count": 3,
   "id": "c9cdde08",
   "metadata": {
    "execution": {
     "iopub.execute_input": "2024-03-05T15:32:58.541472Z",
     "iopub.status.busy": "2024-03-05T15:32:58.541046Z",
     "iopub.status.idle": "2024-03-05T15:32:58.579908Z",
     "shell.execute_reply": "2024-03-05T15:32:58.578973Z"
    },
    "papermill": {
     "duration": 0.050577,
     "end_time": "2024-03-05T15:32:58.582184",
     "exception": false,
     "start_time": "2024-03-05T15:32:58.531607",
     "status": "completed"
    },
    "tags": []
   },
   "outputs": [
    {
     "data": {
      "text/html": [
       "<div>\n",
       "<style scoped>\n",
       "    .dataframe tbody tr th:only-of-type {\n",
       "        vertical-align: middle;\n",
       "    }\n",
       "\n",
       "    .dataframe tbody tr th {\n",
       "        vertical-align: top;\n",
       "    }\n",
       "\n",
       "    .dataframe thead th {\n",
       "        text-align: right;\n",
       "    }\n",
       "</style>\n",
       "<table border=\"1\" class=\"dataframe\">\n",
       "  <thead>\n",
       "    <tr style=\"text-align: right;\">\n",
       "      <th></th>\n",
       "      <th>Time</th>\n",
       "      <th>V1</th>\n",
       "      <th>V2</th>\n",
       "      <th>V3</th>\n",
       "      <th>V4</th>\n",
       "      <th>V5</th>\n",
       "      <th>V6</th>\n",
       "      <th>V7</th>\n",
       "      <th>V8</th>\n",
       "      <th>V9</th>\n",
       "      <th>...</th>\n",
       "      <th>V21</th>\n",
       "      <th>V22</th>\n",
       "      <th>V23</th>\n",
       "      <th>V24</th>\n",
       "      <th>V25</th>\n",
       "      <th>V26</th>\n",
       "      <th>V27</th>\n",
       "      <th>V28</th>\n",
       "      <th>Amount</th>\n",
       "      <th>Class</th>\n",
       "    </tr>\n",
       "  </thead>\n",
       "  <tbody>\n",
       "    <tr>\n",
       "      <th>0</th>\n",
       "      <td>0.0</td>\n",
       "      <td>-1.359807</td>\n",
       "      <td>-0.072781</td>\n",
       "      <td>2.536347</td>\n",
       "      <td>1.378155</td>\n",
       "      <td>-0.338321</td>\n",
       "      <td>0.462388</td>\n",
       "      <td>0.239599</td>\n",
       "      <td>0.098698</td>\n",
       "      <td>0.363787</td>\n",
       "      <td>...</td>\n",
       "      <td>-0.018307</td>\n",
       "      <td>0.277838</td>\n",
       "      <td>-0.110474</td>\n",
       "      <td>0.066928</td>\n",
       "      <td>0.128539</td>\n",
       "      <td>-0.189115</td>\n",
       "      <td>0.133558</td>\n",
       "      <td>-0.021053</td>\n",
       "      <td>149.62</td>\n",
       "      <td>0</td>\n",
       "    </tr>\n",
       "    <tr>\n",
       "      <th>1</th>\n",
       "      <td>0.0</td>\n",
       "      <td>1.191857</td>\n",
       "      <td>0.266151</td>\n",
       "      <td>0.166480</td>\n",
       "      <td>0.448154</td>\n",
       "      <td>0.060018</td>\n",
       "      <td>-0.082361</td>\n",
       "      <td>-0.078803</td>\n",
       "      <td>0.085102</td>\n",
       "      <td>-0.255425</td>\n",
       "      <td>...</td>\n",
       "      <td>-0.225775</td>\n",
       "      <td>-0.638672</td>\n",
       "      <td>0.101288</td>\n",
       "      <td>-0.339846</td>\n",
       "      <td>0.167170</td>\n",
       "      <td>0.125895</td>\n",
       "      <td>-0.008983</td>\n",
       "      <td>0.014724</td>\n",
       "      <td>2.69</td>\n",
       "      <td>0</td>\n",
       "    </tr>\n",
       "    <tr>\n",
       "      <th>2</th>\n",
       "      <td>1.0</td>\n",
       "      <td>-1.358354</td>\n",
       "      <td>-1.340163</td>\n",
       "      <td>1.773209</td>\n",
       "      <td>0.379780</td>\n",
       "      <td>-0.503198</td>\n",
       "      <td>1.800499</td>\n",
       "      <td>0.791461</td>\n",
       "      <td>0.247676</td>\n",
       "      <td>-1.514654</td>\n",
       "      <td>...</td>\n",
       "      <td>0.247998</td>\n",
       "      <td>0.771679</td>\n",
       "      <td>0.909412</td>\n",
       "      <td>-0.689281</td>\n",
       "      <td>-0.327642</td>\n",
       "      <td>-0.139097</td>\n",
       "      <td>-0.055353</td>\n",
       "      <td>-0.059752</td>\n",
       "      <td>378.66</td>\n",
       "      <td>0</td>\n",
       "    </tr>\n",
       "    <tr>\n",
       "      <th>3</th>\n",
       "      <td>1.0</td>\n",
       "      <td>-0.966272</td>\n",
       "      <td>-0.185226</td>\n",
       "      <td>1.792993</td>\n",
       "      <td>-0.863291</td>\n",
       "      <td>-0.010309</td>\n",
       "      <td>1.247203</td>\n",
       "      <td>0.237609</td>\n",
       "      <td>0.377436</td>\n",
       "      <td>-1.387024</td>\n",
       "      <td>...</td>\n",
       "      <td>-0.108300</td>\n",
       "      <td>0.005274</td>\n",
       "      <td>-0.190321</td>\n",
       "      <td>-1.175575</td>\n",
       "      <td>0.647376</td>\n",
       "      <td>-0.221929</td>\n",
       "      <td>0.062723</td>\n",
       "      <td>0.061458</td>\n",
       "      <td>123.50</td>\n",
       "      <td>0</td>\n",
       "    </tr>\n",
       "    <tr>\n",
       "      <th>4</th>\n",
       "      <td>2.0</td>\n",
       "      <td>-1.158233</td>\n",
       "      <td>0.877737</td>\n",
       "      <td>1.548718</td>\n",
       "      <td>0.403034</td>\n",
       "      <td>-0.407193</td>\n",
       "      <td>0.095921</td>\n",
       "      <td>0.592941</td>\n",
       "      <td>-0.270533</td>\n",
       "      <td>0.817739</td>\n",
       "      <td>...</td>\n",
       "      <td>-0.009431</td>\n",
       "      <td>0.798278</td>\n",
       "      <td>-0.137458</td>\n",
       "      <td>0.141267</td>\n",
       "      <td>-0.206010</td>\n",
       "      <td>0.502292</td>\n",
       "      <td>0.219422</td>\n",
       "      <td>0.215153</td>\n",
       "      <td>69.99</td>\n",
       "      <td>0</td>\n",
       "    </tr>\n",
       "  </tbody>\n",
       "</table>\n",
       "<p>5 rows × 31 columns</p>\n",
       "</div>"
      ],
      "text/plain": [
       "   Time        V1        V2        V3        V4        V5        V6        V7  \\\n",
       "0   0.0 -1.359807 -0.072781  2.536347  1.378155 -0.338321  0.462388  0.239599   \n",
       "1   0.0  1.191857  0.266151  0.166480  0.448154  0.060018 -0.082361 -0.078803   \n",
       "2   1.0 -1.358354 -1.340163  1.773209  0.379780 -0.503198  1.800499  0.791461   \n",
       "3   1.0 -0.966272 -0.185226  1.792993 -0.863291 -0.010309  1.247203  0.237609   \n",
       "4   2.0 -1.158233  0.877737  1.548718  0.403034 -0.407193  0.095921  0.592941   \n",
       "\n",
       "         V8        V9  ...       V21       V22       V23       V24       V25  \\\n",
       "0  0.098698  0.363787  ... -0.018307  0.277838 -0.110474  0.066928  0.128539   \n",
       "1  0.085102 -0.255425  ... -0.225775 -0.638672  0.101288 -0.339846  0.167170   \n",
       "2  0.247676 -1.514654  ...  0.247998  0.771679  0.909412 -0.689281 -0.327642   \n",
       "3  0.377436 -1.387024  ... -0.108300  0.005274 -0.190321 -1.175575  0.647376   \n",
       "4 -0.270533  0.817739  ... -0.009431  0.798278 -0.137458  0.141267 -0.206010   \n",
       "\n",
       "        V26       V27       V28  Amount  Class  \n",
       "0 -0.189115  0.133558 -0.021053  149.62      0  \n",
       "1  0.125895 -0.008983  0.014724    2.69      0  \n",
       "2 -0.139097 -0.055353 -0.059752  378.66      0  \n",
       "3 -0.221929  0.062723  0.061458  123.50      0  \n",
       "4  0.502292  0.219422  0.215153   69.99      0  \n",
       "\n",
       "[5 rows x 31 columns]"
      ]
     },
     "execution_count": 3,
     "metadata": {},
     "output_type": "execute_result"
    }
   ],
   "source": [
    "df.head()"
   ]
  },
  {
   "cell_type": "markdown",
   "id": "7dd2452e",
   "metadata": {
    "papermill": {
     "duration": 0.008092,
     "end_time": "2024-03-05T15:32:58.598889",
     "exception": false,
     "start_time": "2024-03-05T15:32:58.590797",
     "status": "completed"
    },
    "tags": []
   },
   "source": [
    "The attributes v1 to v28, time and amount are the independent variables which help in predicting whether the transaction made is from fraud credit car. "
   ]
  },
  {
   "cell_type": "code",
   "execution_count": 4,
   "id": "baf1d63c",
   "metadata": {
    "execution": {
     "iopub.execute_input": "2024-03-05T15:32:58.618288Z",
     "iopub.status.busy": "2024-03-05T15:32:58.617059Z",
     "iopub.status.idle": "2024-03-05T15:32:58.651829Z",
     "shell.execute_reply": "2024-03-05T15:32:58.650664Z"
    },
    "papermill": {
     "duration": 0.047298,
     "end_time": "2024-03-05T15:32:58.654515",
     "exception": false,
     "start_time": "2024-03-05T15:32:58.607217",
     "status": "completed"
    },
    "tags": []
   },
   "outputs": [],
   "source": [
    "# splitting attributes into dependent and independent variables\n",
    "\n",
    "x = df.iloc[:,:-1]\n",
    "y = df.iloc[:,-1]"
   ]
  },
  {
   "cell_type": "code",
   "execution_count": 5,
   "id": "c5cd5431",
   "metadata": {
    "execution": {
     "iopub.execute_input": "2024-03-05T15:32:58.673617Z",
     "iopub.status.busy": "2024-03-05T15:32:58.673197Z",
     "iopub.status.idle": "2024-03-05T15:32:58.694072Z",
     "shell.execute_reply": "2024-03-05T15:32:58.691964Z"
    },
    "papermill": {
     "duration": 0.03517,
     "end_time": "2024-03-05T15:32:58.698243",
     "exception": false,
     "start_time": "2024-03-05T15:32:58.663073",
     "status": "completed"
    },
    "tags": []
   },
   "outputs": [
    {
     "data": {
      "text/plain": [
       "Class\n",
       "0    284315\n",
       "1       492\n",
       "Name: count, dtype: int64"
      ]
     },
     "execution_count": 5,
     "metadata": {},
     "output_type": "execute_result"
    }
   ],
   "source": [
    "y.value_counts()"
   ]
  },
  {
   "cell_type": "code",
   "execution_count": 6,
   "id": "2f32076c",
   "metadata": {
    "execution": {
     "iopub.execute_input": "2024-03-05T15:32:58.726694Z",
     "iopub.status.busy": "2024-03-05T15:32:58.724569Z",
     "iopub.status.idle": "2024-03-05T15:33:00.700887Z",
     "shell.execute_reply": "2024-03-05T15:33:00.699880Z"
    },
    "papermill": {
     "duration": 1.992371,
     "end_time": "2024-03-05T15:33:00.703645",
     "exception": false,
     "start_time": "2024-03-05T15:32:58.711274",
     "status": "completed"
    },
    "tags": []
   },
   "outputs": [],
   "source": [
    "# splitting data using train_test_split\n",
    "\n",
    "from sklearn.model_selection import train_test_split\n",
    "\n",
    "x_train, x_test, y_train, y_test = train_test_split(x, y, test_size = 0.3)"
   ]
  },
  {
   "cell_type": "code",
   "execution_count": 7,
   "id": "b064f3f0",
   "metadata": {
    "execution": {
     "iopub.execute_input": "2024-03-05T15:33:00.723334Z",
     "iopub.status.busy": "2024-03-05T15:33:00.722652Z",
     "iopub.status.idle": "2024-03-05T15:33:00.733793Z",
     "shell.execute_reply": "2024-03-05T15:33:00.732292Z"
    },
    "papermill": {
     "duration": 0.024561,
     "end_time": "2024-03-05T15:33:00.736812",
     "exception": false,
     "start_time": "2024-03-05T15:33:00.712251",
     "status": "completed"
    },
    "tags": []
   },
   "outputs": [
    {
     "data": {
      "text/plain": [
       "Class\n",
       "0    199025\n",
       "1       339\n",
       "Name: count, dtype: int64"
      ]
     },
     "execution_count": 7,
     "metadata": {},
     "output_type": "execute_result"
    }
   ],
   "source": [
    "# before undersampling checking the number of observatiosn of class 0 and class 1\n",
    "\n",
    "y_train.value_counts()"
   ]
  },
  {
   "cell_type": "code",
   "execution_count": 8,
   "id": "7f48275d",
   "metadata": {
    "execution": {
     "iopub.execute_input": "2024-03-05T15:33:00.758194Z",
     "iopub.status.busy": "2024-03-05T15:33:00.757577Z",
     "iopub.status.idle": "2024-03-05T15:33:01.104689Z",
     "shell.execute_reply": "2024-03-05T15:33:01.103451Z"
    },
    "papermill": {
     "duration": 0.360764,
     "end_time": "2024-03-05T15:33:01.107450",
     "exception": false,
     "start_time": "2024-03-05T15:33:00.746686",
     "status": "completed"
    },
    "tags": []
   },
   "outputs": [
    {
     "data": {
      "text/plain": [
       "<Axes: xlabel='Class'>"
      ]
     },
     "execution_count": 8,
     "metadata": {},
     "output_type": "execute_result"
    },
    {
     "data": {
      "image/png": "[encoded data removed]",
      "text/plain": [
       "<Figure size 640x480 with 1 Axes>"
      ]
     },
     "metadata": {},
     "output_type": "display_data"
    }
   ],
   "source": [
    "y_train.value_counts().plot(kind='bar')"
   ]
  },
  {
   "cell_type": "markdown",
   "id": "7e762964",
   "metadata": {
    "papermill": {
     "duration": 0.009037,
     "end_time": "2024-03-05T15:33:01.126027",
     "exception": false,
     "start_time": "2024-03-05T15:33:01.116990",
     "status": "completed"
    },
    "tags": []
   },
   "source": [
    "As we can see, the data is highly imbalanced with 199009 observations in class 0 and 355 observations in class 1."
   ]
  },
  {
   "cell_type": "code",
   "execution_count": 9,
   "id": "b02b0047",
   "metadata": {
    "execution": {
     "iopub.execute_input": "2024-03-05T15:33:01.147353Z",
     "iopub.status.busy": "2024-03-05T15:33:01.146048Z",
     "iopub.status.idle": "2024-03-05T15:33:11.623934Z",
     "shell.execute_reply": "2024-03-05T15:33:11.622688Z"
    },
    "papermill": {
     "duration": 10.492939,
     "end_time": "2024-03-05T15:33:11.628339",
     "exception": false,
     "start_time": "2024-03-05T15:33:01.135400",
     "status": "completed"
    },
    "tags": []
   },
   "outputs": [
    {
     "name": "stdout",
     "output_type": "stream",
     "text": [
      "Accuracy score for original data:  0.9991456292499094\n",
      "ROC AUC score for original data:  0.810369581060235\n"
     ]
    }
   ],
   "source": [
    "#fitting the logistic regression model and checking the accuracy and roc auc score\n",
    "\n",
    "# import Logistic regression libraries \n",
    "from sklearn.linear_model import LogisticRegression \n",
    "from sklearn.metrics import classification_report, roc_auc_score, accuracy_score\n",
    "\n",
    "#fit the model\n",
    "model=LogisticRegression(max_iter = 4000)\n",
    "clf = model.fit(x_train, y_train)\n",
    "pred = clf.predict(x_test)\n",
    "\n",
    "#getting accuracy and roc auc score\n",
    "print(\"Accuracy score for original data: \", accuracy_score(y_test, pred))\n",
    "print(\"ROC AUC score for original data: \", roc_auc_score(y_test, pred))"
   ]
  },
  {
   "cell_type": "markdown",
   "id": "fba38861",
   "metadata": {
    "papermill": {
     "duration": 0.021447,
     "end_time": "2024-03-05T15:33:11.673220",
     "exception": false,
     "start_time": "2024-03-05T15:33:11.651773",
     "status": "completed"
    },
    "tags": []
   },
   "source": [
    "Here, the accuracy is around 99% which is very high, but, as the data is highly imbalanced we wont get proper predictions. The ROC AUC score shows how well the classifier shows the positive and negative classes. In this case, the score is on the lower side, around 82%. Thus our predictions won't be correct. "
   ]
  },
  {
   "cell_type": "code",
   "execution_count": 10,
   "id": "ee1d491f",
   "metadata": {
    "execution": {
     "iopub.execute_input": "2024-03-05T15:33:11.700287Z",
     "iopub.status.busy": "2024-03-05T15:33:11.699826Z",
     "iopub.status.idle": "2024-03-05T15:33:12.188769Z",
     "shell.execute_reply": "2024-03-05T15:33:12.187388Z"
    },
    "papermill": {
     "duration": 0.504334,
     "end_time": "2024-03-05T15:33:12.192013",
     "exception": false,
     "start_time": "2024-03-05T15:33:11.687679",
     "status": "completed"
    },
    "tags": []
   },
   "outputs": [
    {
     "data": {
      "text/plain": [
       "Class\n",
       "0    339\n",
       "1    339\n",
       "Name: count, dtype: int64"
      ]
     },
     "execution_count": 10,
     "metadata": {},
     "output_type": "execute_result"
    }
   ],
   "source": [
    "#performing undersampling\n",
    "\n",
    "#importing necessary library\n",
    "from imblearn.under_sampling import RandomUnderSampler\n",
    "\n",
    "# performing undersampling\n",
    "\n",
    "undersample = RandomUnderSampler(sampling_strategy = 'majority')\n",
    "x_train_under, y_train_under = undersample.fit_resample(x_train, y_train)\n",
    "\n",
    "# checking the number of observatiosn of class 1 and class 2 post sampling\n",
    "\n",
    "y_train_under.value_counts()"
   ]
  },
  {
   "cell_type": "code",
   "execution_count": 11,
   "id": "138c1b2f",
   "metadata": {
    "execution": {
     "iopub.execute_input": "2024-03-05T15:33:12.214635Z",
     "iopub.status.busy": "2024-03-05T15:33:12.213998Z",
     "iopub.status.idle": "2024-03-05T15:33:12.471929Z",
     "shell.execute_reply": "2024-03-05T15:33:12.470364Z"
    },
    "papermill": {
     "duration": 0.273059,
     "end_time": "2024-03-05T15:33:12.475134",
     "exception": false,
     "start_time": "2024-03-05T15:33:12.202075",
     "status": "completed"
    },
    "tags": []
   },
   "outputs": [
    {
     "data": {
      "text/plain": [
       "<Axes: xlabel='Class'>"
      ]
     },
     "execution_count": 11,
     "metadata": {},
     "output_type": "execute_result"
    },
    {
     "data": {
      "image/png": "[encoded data removed]",
      "text/plain": [
       "<Figure size 640x480 with 1 Axes>"
      ]
     },
     "metadata": {},
     "output_type": "display_data"
    }
   ],
   "source": [
    "y_train_under.value_counts().plot(kind='bar')"
   ]
  },
  {
   "cell_type": "markdown",
   "id": "2a1bcb45",
   "metadata": {
    "papermill": {
     "duration": 0.00979,
     "end_time": "2024-03-05T15:33:12.495546",
     "exception": false,
     "start_time": "2024-03-05T15:33:12.485756",
     "status": "completed"
    },
    "tags": []
   },
   "source": [
    "After performing under sampling, the data is balanced and the abundant class observations are reduced to match the rare class observations. "
   ]
  },
  {
   "cell_type": "code",
   "execution_count": 12,
   "id": "28bf74b5",
   "metadata": {
    "execution": {
     "iopub.execute_input": "2024-03-05T15:33:12.517648Z",
     "iopub.status.busy": "2024-03-05T15:33:12.517187Z",
     "iopub.status.idle": "2024-03-05T15:33:12.652345Z",
     "shell.execute_reply": "2024-03-05T15:33:12.651004Z"
    },
    "papermill": {
     "duration": 0.150158,
     "end_time": "2024-03-05T15:33:12.655896",
     "exception": false,
     "start_time": "2024-03-05T15:33:12.505738",
     "status": "completed"
    },
    "tags": []
   },
   "outputs": [
    {
     "name": "stdout",
     "output_type": "stream",
     "text": [
      "Accuracy score for undersampled data:  0.9614245754479595\n",
      "roc auc score for original data:  0.9382702383333449\n"
     ]
    }
   ],
   "source": [
    "#fitting the logistic regression model on undersampled data to check the accuracy and roc auc score\n",
    "\n",
    "# import Logistic regression libraries \n",
    "from sklearn.linear_model import LogisticRegression \n",
    "from sklearn.metrics import classification_report, accuracy_score, roc_auc_score\n",
    "\n",
    "#fitting the model\n",
    "model=LogisticRegression(max_iter = 4000)\n",
    "clf_under = model.fit(x_train_under, y_train_under)\n",
    "pred_under = clf_under.predict(x_test)\n",
    "\n",
    "#getting accuracy and roc auc score\n",
    "print(\"Accuracy score for undersampled data: \", accuracy_score(y_test, pred_under))\n",
    "print(\"roc auc score for original data: \", roc_auc_score(y_test, pred_under))"
   ]
  },
  {
   "cell_type": "markdown",
   "id": "7153b760",
   "metadata": {
    "papermill": {
     "duration": 0.022343,
     "end_time": "2024-03-05T15:33:12.700423",
     "exception": false,
     "start_time": "2024-03-05T15:33:12.678080",
     "status": "completed"
    },
    "tags": []
   },
   "source": [
    "We have got a much better ROC AUC score and a good accuracy. Hence, the predictions will be better than the unbalanced data. "
   ]
  },
  {
   "cell_type": "code",
   "execution_count": 13,
   "id": "d67ba24d",
   "metadata": {
    "execution": {
     "iopub.execute_input": "2024-03-05T15:33:12.730042Z",
     "iopub.status.busy": "2024-03-05T15:33:12.729655Z",
     "iopub.status.idle": "2024-03-05T15:33:12.977530Z",
     "shell.execute_reply": "2024-03-05T15:33:12.976393Z"
    },
    "papermill": {
     "duration": 0.262213,
     "end_time": "2024-03-05T15:33:12.980204",
     "exception": false,
     "start_time": "2024-03-05T15:33:12.717991",
     "status": "completed"
    },
    "tags": []
   },
   "outputs": [
    {
     "data": {
      "text/plain": [
       "Class\n",
       "0    199025\n",
       "1    199025\n",
       "Name: count, dtype: int64"
      ]
     },
     "execution_count": 13,
     "metadata": {},
     "output_type": "execute_result"
    }
   ],
   "source": [
    "#performing over sampling\n",
    "\n",
    "# importing required library\n",
    "from imblearn.over_sampling import RandomOverSampler\n",
    "\n",
    "# performing oversampling\n",
    "\n",
    "oversample = RandomOverSampler(sampling_strategy = 'minority')\n",
    "x_train_over, y_train_over = oversample.fit_resample(x_train, y_train)\n",
    "\n",
    "# checking the number of observatiosn of class 1 and class 2 post sampling\n",
    "\n",
    "y_train_over.value_counts()"
   ]
  },
  {
   "cell_type": "code",
   "execution_count": 14,
   "id": "7a646774",
   "metadata": {
    "execution": {
     "iopub.execute_input": "2024-03-05T15:33:13.004603Z",
     "iopub.status.busy": "2024-03-05T15:33:13.004112Z",
     "iopub.status.idle": "2024-03-05T15:33:13.285826Z",
     "shell.execute_reply": "2024-03-05T15:33:13.284375Z"
    },
    "papermill": {
     "duration": 0.297783,
     "end_time": "2024-03-05T15:33:13.288479",
     "exception": false,
     "start_time": "2024-03-05T15:33:12.990696",
     "status": "completed"
    },
    "tags": []
   },
   "outputs": [
    {
     "data": {
      "text/plain": [
       "<Axes: xlabel='Class'>"
      ]
     },
     "execution_count": 14,
     "metadata": {},
     "output_type": "execute_result"
    },
    {
     "data": {
      "image/png": "[encoded data removed]",
      "text/plain": [
       "<Figure size 640x480 with 1 Axes>"
      ]
     },
     "metadata": {},
     "output_type": "display_data"
    }
   ],
   "source": [
    "y_train_over.value_counts().plot(kind='bar')"
   ]
  },
  {
   "cell_type": "code",
   "execution_count": 15,
   "id": "947abee9",
   "metadata": {
    "execution": {
     "iopub.execute_input": "2024-03-05T15:33:13.313827Z",
     "iopub.status.busy": "2024-03-05T15:33:13.313326Z",
     "iopub.status.idle": "2024-03-05T15:33:20.121793Z",
     "shell.execute_reply": "2024-03-05T15:33:20.120120Z"
    },
    "papermill": {
     "duration": 6.826783,
     "end_time": "2024-03-05T15:33:20.126918",
     "exception": false,
     "start_time": "2024-03-05T15:33:13.300135",
     "status": "completed"
    },
    "tags": []
   },
   "outputs": [
    {
     "name": "stdout",
     "output_type": "stream",
     "text": [
      "Accuracy score for oversampled data:  0.9638706506091781\n",
      "ROC AUC score for oversampled data:  0.9231849123750802\n"
     ]
    }
   ],
   "source": [
    "#fitting the logistic regression model on oversampled data to check the accuracy and roc auc score\n",
    "\n",
    "# import Logistic Regression libraries \n",
    "from sklearn.linear_model import LogisticRegression\n",
    "from sklearn.metrics import classification_report, roc_auc_score, accuracy_score\n",
    "\n",
    "model=LogisticRegression(max_iter = 4000)\n",
    "clf_over = model.fit(x_train_over, y_train_over)\n",
    "pred_over = clf_over.predict(x_test)\n",
    "\n",
    "print(\"Accuracy score for oversampled data: \", accuracy_score(y_test, pred_over))\n",
    "print(\"ROC AUC score for oversampled data: \", roc_auc_score(y_test, pred_over))"
   ]
  },
  {
   "cell_type": "code",
   "execution_count": 16,
   "id": "4ad1385d",
   "metadata": {
    "execution": {
     "iopub.execute_input": "2024-03-05T15:33:20.179465Z",
     "iopub.status.busy": "2024-03-05T15:33:20.179032Z",
     "iopub.status.idle": "2024-03-05T15:33:20.662978Z",
     "shell.execute_reply": "2024-03-05T15:33:20.661937Z"
    },
    "papermill": {
     "duration": 0.5135,
     "end_time": "2024-03-05T15:33:20.666017",
     "exception": false,
     "start_time": "2024-03-05T15:33:20.152517",
     "status": "completed"
    },
    "tags": []
   },
   "outputs": [
    {
     "data": {
      "text/plain": [
       "Class\n",
       "0    199025\n",
       "1    199025\n",
       "Name: count, dtype: int64"
      ]
     },
     "execution_count": 16,
     "metadata": {},
     "output_type": "execute_result"
    }
   ],
   "source": [
    "#resampling using SMOTE\n",
    "\n",
    "# importing library\n",
    "\n",
    "from imblearn.over_sampling import SMOTE\n",
    "\n",
    "# performing SMOTE\n",
    "\n",
    "smote = SMOTE(random_state = 42)\n",
    "x_train_resampled, y_train_resampled = smote.fit_resample(x_train, y_train)\n",
    "\n",
    "# checking the number of observatiosn of class 1 and class 2 post sampling\n",
    "\n",
    "y_train_resampled.value_counts()"
   ]
  },
  {
   "cell_type": "code",
   "execution_count": 17,
   "id": "3afc3932",
   "metadata": {
    "execution": {
     "iopub.execute_input": "2024-03-05T15:33:20.690225Z",
     "iopub.status.busy": "2024-03-05T15:33:20.689787Z",
     "iopub.status.idle": "2024-03-05T15:33:20.980182Z",
     "shell.execute_reply": "2024-03-05T15:33:20.978725Z"
    },
    "papermill": {
     "duration": 0.305682,
     "end_time": "2024-03-05T15:33:20.982930",
     "exception": false,
     "start_time": "2024-03-05T15:33:20.677248",
     "status": "completed"
    },
    "tags": []
   },
   "outputs": [
    {
     "data": {
      "text/plain": [
       "<Axes: xlabel='Class'>"
      ]
     },
     "execution_count": 17,
     "metadata": {},
     "output_type": "execute_result"
    },
    {
     "data": {
      "image/png": "[encoded data removed]",
      "text/plain": [
       "<Figure size 640x480 with 1 Axes>"
      ]
     },
     "metadata": {},
     "output_type": "display_data"
    }
   ],
   "source": [
    "y_train_resampled.value_counts().plot(kind='bar')"
   ]
  },
  {
   "cell_type": "code",
   "execution_count": 18,
   "id": "7fb1e73a",
   "metadata": {
    "execution": {
     "iopub.execute_input": "2024-03-05T15:33:21.008112Z",
     "iopub.status.busy": "2024-03-05T15:33:21.007697Z",
     "iopub.status.idle": "2024-03-05T15:33:25.294978Z",
     "shell.execute_reply": "2024-03-05T15:33:25.293683Z"
    },
    "papermill": {
     "duration": 4.304983,
     "end_time": "2024-03-05T15:33:25.299810",
     "exception": false,
     "start_time": "2024-03-05T15:33:20.994827",
     "status": "completed"
    },
    "tags": []
   },
   "outputs": [
    {
     "name": "stdout",
     "output_type": "stream",
     "text": [
      "Accuracy score for resampled data:  0.9663050220614913\n",
      "ROC AUC score for resampled data:  0.914617947073307\n"
     ]
    }
   ],
   "source": [
    "#he logistic regression model on resampled data (SMOTE) to check the accuracy and roc auc score\n",
    "\n",
    "# import Logistic Regression libraries \n",
    "from sklearn.linear_model import LogisticRegression\n",
    "from sklearn.metrics import classification_report, roc_auc_score, accuracy_score\n",
    "\n",
    "model=LogisticRegression(max_iter = 4000)\n",
    "clf_resampled = model.fit(x_train_resampled, y_train_resampled)\n",
    "pred_resampled = clf_resampled.predict(x_test)\n",
    "\n",
    "print(\"Accuracy score for resampled data: \", accuracy_score(y_test, pred_resampled))\n",
    "print(\"ROC AUC score for resampled data: \", roc_auc_score(y_test, pred_resampled))"
   ]
  },
  {
   "cell_type": "markdown",
   "id": "cfe80c8c",
   "metadata": {
    "papermill": {
     "duration": 0.027452,
     "end_time": "2024-03-05T15:33:25.354325",
     "exception": false,
     "start_time": "2024-03-05T15:33:25.326873",
     "status": "completed"
    },
    "tags": []
   },
   "source": [
    "The accuracy and roc auc score is much better as compared to the imbalanced daya."
   ]
  },
  {
   "cell_type": "markdown",
   "id": "4a4beb4a",
   "metadata": {
    "papermill": {
     "duration": 0.011372,
     "end_time": "2024-03-05T15:33:25.378205",
     "exception": false,
     "start_time": "2024-03-05T15:33:25.366833",
     "status": "completed"
    },
    "tags": []
   },
   "source": [
    "Comparing the accuracies and roc auc score of all the different sampled data and the imbalanced data, it is clear that the resampled data gives a better roc auc score and thus, the predictions are much better. "
   ]
  }
 ],
 "metadata": {
  "kaggle": {
   "accelerator": "none",
   "dataSources": [
    {
     "datasetId": 310,
     "sourceId": 23498,
     "sourceType": "datasetVersion"
    }
   ],
   "dockerImageVersionId": 30664,
   "isGpuEnabled": false,
   "isInternetEnabled": false,
   "language": "python",
   "sourceType": "notebook"
  },
  "kernelspec": {
   "display_name": "Python 3",
   "language": "python",
   "name": "python3"
  },
  "language_info": {
   "codemirror_mode": {
    "name": "ipython",
    "version": 3
   },
   "file_extension": ".py",
   "mimetype": "text/x-python",
   "name": "python",
   "nbconvert_exporter": "python",
   "pygments_lexer": "ipython3",
   "version": "3.10.13"
  },
  "papermill": {
   "default_parameters": {},
   "duration": 36.875607,
   "end_time": "2024-03-05T15:33:26.112288",
   "environment_variables": {},
   "exception": null,
   "input_path": "__notebook__.ipynb",
   "output_path": "__notebook__.ipynb",
   "parameters": {},
   "start_time": "2024-03-05T15:32:49.236681",
   "version": "2.5.0"
  }
 },
 "nbformat": 4,
 "nbformat_minor": 5
}
